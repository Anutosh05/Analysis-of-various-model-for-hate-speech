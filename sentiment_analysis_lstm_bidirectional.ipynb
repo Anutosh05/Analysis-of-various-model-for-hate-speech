{
 "cells": [
  {
   "cell_type": "markdown",
   "id": "b4a6d6b5",
   "metadata": {},
   "source": [
    "# Sentiment Analysis Using Bidirectional LSTM\r\n",
    "\r\n",
    "This notebook demonstrates the creation of a **Bidirectional LSTM (BiLSTM)** model for text classification. The dataset used contains preprocessed tweets categorized into three distinct classes. This approach is particularly relevant for tasks involving sequence data, such as text analysis, due to the bidirectional nature of the LSTM layers, which capture both past and future contexts in the input sequence.\r\n",
    "\r\n",
    "### Why Bidirectional LSTMs for Hate Speech Detection?\r\n",
    "\r\n",
    "Hate speech detection requires identifying subtle and complex patterns in text. These patterns often rely on both:\r\n",
    "- **Semantic context:** Understanding the meaning of words or phrases.\r\n",
    "- **Syntactic structure:** Grasping relationships between words in a sequence.\r\n",
    "\r\n",
    "BiLSTMs process text in both forward and backward directions, making them well-suited for:\r\n",
    "1. **Contextual Understanding:** They capture dependencies from both previous and subsequent words, improving accuracy in tasks like hate speech detection where context matters significantly.\r\n",
    "2. **Handling Ambiguities:** Hate speech can include nuanced phrasing, sarcasm, or implicit meanings, which benefit from a richer understanding of the text sequence.\r\n",
    "\r\n",
    "### Potential Limitations of BiLSTMs for Hate Speech Detection\r\n",
    "\r\n",
    "While BiLSTMs are powerful, their effectiveness depends on:\r\n",
    "1. **Dataset Quality and Size:** A small or unbalanced dataset may lead to overfitting or biased results.\r\n",
    "2. **Complexity of Language:** Hate speech often involves slang, code-switching, or misspellings, which require robust preprocessing.\r\n",
    "3. **Real-Time Constraints:** BiLSTMs are computationally intensive, which might make them less suitable for real-time applications without optimization.\r\n",
    "4. **Interpretability:** Neural networks like BiLSTMs function as black boxes, making it challenging to understand why a particular prediction was made.\r\n",
    "\r\n",
    "This notebook explores how well a BiLSTM performs on the given dataset and provides insights into its suitability for hate speech detection tasks.\r\n"
   ]
  },
  {
   "cell_type": "markdown",
   "id": "7cc1c261",
   "metadata": {},
   "source": [
    "## Importing Required Libraries\n",
    "We'll begin by importing the necessary libraries for data processing, model building, and evaluation."
   ]
  },
  {
   "cell_type": "code",
   "execution_count": 1,
   "id": "43d5ecd8",
   "metadata": {},
   "outputs": [],
   "source": [
    "import numpy as np\n",
    "import tensorflow as tf\n",
    "import pandas as pd\n",
    "from tensorflow.keras.preprocessing.text import Tokenizer\n",
    "from tensorflow.keras.preprocessing.sequence import pad_sequences\n",
    "from sklearn.model_selection import train_test_split\n",
    "from tensorflow.keras.models import Sequential\n",
    "from tensorflow.keras.layers import Embedding, Bidirectional, LSTM, Conv1D, GlobalMaxPooling1D, Dense, Dropout\n",
    "from tensorflow.keras.callbacks import EarlyStopping\n",
    "from tensorflow.keras.regularizers import l2\n",
    "from sklearn.metrics import classification_report, confusion_matrix, ConfusionMatrixDisplay, recall_score, roc_curve, roc_auc_score, precision_score, f1_score\n",
    "import matplotlib.pyplot as plt\n",
    "from sklearn.preprocessing import label_binarize\n",
    "import csv\n",
    "from sklearn.metrics import precision_score\n"
   ]
  },
  {
   "cell_type": "code",
   "execution_count": 2,
   "id": "54a2e5d0-acb4-47b1-bce1-be9279301088",
   "metadata": {},
   "outputs": [],
   "source": [
    "from save_data import save_data"
   ]
  },
  {
   "cell_type": "code",
   "execution_count": 3,
   "id": "9f823b7a-127e-4298-ac66-7fb7096afc49",
   "metadata": {},
   "outputs": [],
   "source": [
    "from data_split_ready import split_data"
   ]
  },
  {
   "cell_type": "code",
   "execution_count": 4,
   "id": "81801bd2",
   "metadata": {},
   "outputs": [],
   "source": [
    "X_train, X_test, y_train, y_test,tokenizer = split_data('processed_text.csv')"
   ]
  },
  {
   "cell_type": "code",
   "execution_count": 5,
   "id": "bc91938c-cca5-4682-81d9-8299d697e3c9",
   "metadata": {},
   "outputs": [
    {
     "name": "stdout",
     "output_type": "stream",
     "text": [
      "29\n"
     ]
    }
   ],
   "source": [
    "vocab_size = len(tokenizer.word_index) + 1\n",
    "max_length = max(len(sequence) for sequence in X_train)\n",
    "print(max_length)\n",
    "X_train = pad_sequences(X_train, maxlen=max_length)\n",
    "X_test=pad_sequences(X_test, maxlen=max_length)"
   ]
  },
  {
   "cell_type": "markdown",
   "id": "5aa06d79",
   "metadata": {},
   "source": [
    "## Building the Bidirectional LSTM Model\n",
    "The model includes embedding layers, multiple bidirectional LSTMs, and dense layers for classification."
   ]
  },
  {
   "cell_type": "code",
   "execution_count": 6,
   "id": "7886f601",
   "metadata": {},
   "outputs": [
    {
     "name": "stderr",
     "output_type": "stream",
     "text": [
      "C:\\Users\\Anutosh tiwari\\anaconda3\\Lib\\site-packages\\keras\\src\\layers\\core\\embedding.py:90: UserWarning: Argument `input_length` is deprecated. Just remove it.\n",
      "  warnings.warn(\n"
     ]
    }
   ],
   "source": [
    "model = Sequential()\n",
    "model.add(Embedding(vocab_size, 100, input_length=max_length))\n",
    "model.add(Bidirectional(LSTM(256, return_sequences=True)))\n",
    "model.add(Dropout(0.2))\n",
    "model.add(Bidirectional(LSTM(256, return_sequences=True)))\n",
    "model.add(Dropout(0.2))\n",
    "model.add(Bidirectional(LSTM(128)))\n",
    "model.add(Dropout(0.2))\n",
    "model.add(Dense(128, activation='relu'))\n",
    "model.add(Dropout(0.2))\n",
    "model.add(Dense(64, activation='relu'))\n",
    "model.add(Dense(3, activation='softmax'))"
   ]
  },
  {
   "cell_type": "markdown",
   "id": "5bfd3556",
   "metadata": {},
   "source": [
    "## Compiling the Model\n",
    "The model is compiled with the sparse categorical crossentropy loss function, Adam optimizer, and accuracy metric."
   ]
  },
  {
   "cell_type": "code",
   "execution_count": 7,
   "id": "24c15c9d",
   "metadata": {},
   "outputs": [],
   "source": [
    "model.compile(loss='sparse_categorical_crossentropy', optimizer='adam', metrics=['accuracy'])"
   ]
  },
  {
   "cell_type": "markdown",
   "id": "3a2da8c9",
   "metadata": {},
   "source": [
    "## Adding Early Stopping Callback\n",
    "Early stopping will prevent overfitting by stopping training when the validation accuracy stops improving for three consecutive epochs."
   ]
  },
  {
   "cell_type": "code",
   "execution_count": 8,
   "id": "7efb3e00",
   "metadata": {},
   "outputs": [],
   "source": [
    "early_stopping = EarlyStopping(monitor='val_accuracy', patience=3, restore_best_weights=True)"
   ]
  },
  {
   "cell_type": "markdown",
   "id": "fbd87f0b",
   "metadata": {},
   "source": [
    "## Model Summary\n",
    "Let's inspect the architecture of the model."
   ]
  },
  {
   "cell_type": "code",
   "execution_count": 9,
   "id": "6d995bd0",
   "metadata": {},
   "outputs": [
    {
     "data": {
      "text/html": [
       "<pre style=\"white-space:pre;overflow-x:auto;line-height:normal;font-family:Menlo,'DejaVu Sans Mono',consolas,'Courier New',monospace\"><span style=\"font-weight: bold\">Model: \"sequential\"</span>\n",
       "</pre>\n"
      ],
      "text/plain": [
       "\u001b[1mModel: \"sequential\"\u001b[0m\n"
      ]
     },
     "metadata": {},
     "output_type": "display_data"
    },
    {
     "data": {
      "text/html": [
       "<pre style=\"white-space:pre;overflow-x:auto;line-height:normal;font-family:Menlo,'DejaVu Sans Mono',consolas,'Courier New',monospace\">┏━━━━━━━━━━━━━━━━━━━━━━━━━━━━━━━━━━━━━━┳━━━━━━━━━━━━━━━━━━━━━━━━━━━━━┳━━━━━━━━━━━━━━━━━┓\n",
       "┃<span style=\"font-weight: bold\"> Layer (type)                         </span>┃<span style=\"font-weight: bold\"> Output Shape                </span>┃<span style=\"font-weight: bold\">         Param # </span>┃\n",
       "┡━━━━━━━━━━━━━━━━━━━━━━━━━━━━━━━━━━━━━━╇━━━━━━━━━━━━━━━━━━━━━━━━━━━━━╇━━━━━━━━━━━━━━━━━┩\n",
       "│ embedding (<span style=\"color: #0087ff; text-decoration-color: #0087ff\">Embedding</span>)                │ ?                           │     <span style=\"color: #00af00; text-decoration-color: #00af00\">0</span> (unbuilt) │\n",
       "├──────────────────────────────────────┼─────────────────────────────┼─────────────────┤\n",
       "│ bidirectional (<span style=\"color: #0087ff; text-decoration-color: #0087ff\">Bidirectional</span>)        │ ?                           │     <span style=\"color: #00af00; text-decoration-color: #00af00\">0</span> (unbuilt) │\n",
       "├──────────────────────────────────────┼─────────────────────────────┼─────────────────┤\n",
       "│ dropout (<span style=\"color: #0087ff; text-decoration-color: #0087ff\">Dropout</span>)                    │ ?                           │               <span style=\"color: #00af00; text-decoration-color: #00af00\">0</span> │\n",
       "├──────────────────────────────────────┼─────────────────────────────┼─────────────────┤\n",
       "│ bidirectional_1 (<span style=\"color: #0087ff; text-decoration-color: #0087ff\">Bidirectional</span>)      │ ?                           │     <span style=\"color: #00af00; text-decoration-color: #00af00\">0</span> (unbuilt) │\n",
       "├──────────────────────────────────────┼─────────────────────────────┼─────────────────┤\n",
       "│ dropout_1 (<span style=\"color: #0087ff; text-decoration-color: #0087ff\">Dropout</span>)                  │ ?                           │               <span style=\"color: #00af00; text-decoration-color: #00af00\">0</span> │\n",
       "├──────────────────────────────────────┼─────────────────────────────┼─────────────────┤\n",
       "│ bidirectional_2 (<span style=\"color: #0087ff; text-decoration-color: #0087ff\">Bidirectional</span>)      │ ?                           │     <span style=\"color: #00af00; text-decoration-color: #00af00\">0</span> (unbuilt) │\n",
       "├──────────────────────────────────────┼─────────────────────────────┼─────────────────┤\n",
       "│ dropout_2 (<span style=\"color: #0087ff; text-decoration-color: #0087ff\">Dropout</span>)                  │ ?                           │               <span style=\"color: #00af00; text-decoration-color: #00af00\">0</span> │\n",
       "├──────────────────────────────────────┼─────────────────────────────┼─────────────────┤\n",
       "│ dense (<span style=\"color: #0087ff; text-decoration-color: #0087ff\">Dense</span>)                        │ ?                           │     <span style=\"color: #00af00; text-decoration-color: #00af00\">0</span> (unbuilt) │\n",
       "├──────────────────────────────────────┼─────────────────────────────┼─────────────────┤\n",
       "│ dropout_3 (<span style=\"color: #0087ff; text-decoration-color: #0087ff\">Dropout</span>)                  │ ?                           │               <span style=\"color: #00af00; text-decoration-color: #00af00\">0</span> │\n",
       "├──────────────────────────────────────┼─────────────────────────────┼─────────────────┤\n",
       "│ dense_1 (<span style=\"color: #0087ff; text-decoration-color: #0087ff\">Dense</span>)                      │ ?                           │     <span style=\"color: #00af00; text-decoration-color: #00af00\">0</span> (unbuilt) │\n",
       "├──────────────────────────────────────┼─────────────────────────────┼─────────────────┤\n",
       "│ dense_2 (<span style=\"color: #0087ff; text-decoration-color: #0087ff\">Dense</span>)                      │ ?                           │     <span style=\"color: #00af00; text-decoration-color: #00af00\">0</span> (unbuilt) │\n",
       "└──────────────────────────────────────┴─────────────────────────────┴─────────────────┘\n",
       "</pre>\n"
      ],
      "text/plain": [
       "┏━━━━━━━━━━━━━━━━━━━━━━━━━━━━━━━━━━━━━━┳━━━━━━━━━━━━━━━━━━━━━━━━━━━━━┳━━━━━━━━━━━━━━━━━┓\n",
       "┃\u001b[1m \u001b[0m\u001b[1mLayer (type)                        \u001b[0m\u001b[1m \u001b[0m┃\u001b[1m \u001b[0m\u001b[1mOutput Shape               \u001b[0m\u001b[1m \u001b[0m┃\u001b[1m \u001b[0m\u001b[1m        Param #\u001b[0m\u001b[1m \u001b[0m┃\n",
       "┡━━━━━━━━━━━━━━━━━━━━━━━━━━━━━━━━━━━━━━╇━━━━━━━━━━━━━━━━━━━━━━━━━━━━━╇━━━━━━━━━━━━━━━━━┩\n",
       "│ embedding (\u001b[38;5;33mEmbedding\u001b[0m)                │ ?                           │     \u001b[38;5;34m0\u001b[0m (unbuilt) │\n",
       "├──────────────────────────────────────┼─────────────────────────────┼─────────────────┤\n",
       "│ bidirectional (\u001b[38;5;33mBidirectional\u001b[0m)        │ ?                           │     \u001b[38;5;34m0\u001b[0m (unbuilt) │\n",
       "├──────────────────────────────────────┼─────────────────────────────┼─────────────────┤\n",
       "│ dropout (\u001b[38;5;33mDropout\u001b[0m)                    │ ?                           │               \u001b[38;5;34m0\u001b[0m │\n",
       "├──────────────────────────────────────┼─────────────────────────────┼─────────────────┤\n",
       "│ bidirectional_1 (\u001b[38;5;33mBidirectional\u001b[0m)      │ ?                           │     \u001b[38;5;34m0\u001b[0m (unbuilt) │\n",
       "├──────────────────────────────────────┼─────────────────────────────┼─────────────────┤\n",
       "│ dropout_1 (\u001b[38;5;33mDropout\u001b[0m)                  │ ?                           │               \u001b[38;5;34m0\u001b[0m │\n",
       "├──────────────────────────────────────┼─────────────────────────────┼─────────────────┤\n",
       "│ bidirectional_2 (\u001b[38;5;33mBidirectional\u001b[0m)      │ ?                           │     \u001b[38;5;34m0\u001b[0m (unbuilt) │\n",
       "├──────────────────────────────────────┼─────────────────────────────┼─────────────────┤\n",
       "│ dropout_2 (\u001b[38;5;33mDropout\u001b[0m)                  │ ?                           │               \u001b[38;5;34m0\u001b[0m │\n",
       "├──────────────────────────────────────┼─────────────────────────────┼─────────────────┤\n",
       "│ dense (\u001b[38;5;33mDense\u001b[0m)                        │ ?                           │     \u001b[38;5;34m0\u001b[0m (unbuilt) │\n",
       "├──────────────────────────────────────┼─────────────────────────────┼─────────────────┤\n",
       "│ dropout_3 (\u001b[38;5;33mDropout\u001b[0m)                  │ ?                           │               \u001b[38;5;34m0\u001b[0m │\n",
       "├──────────────────────────────────────┼─────────────────────────────┼─────────────────┤\n",
       "│ dense_1 (\u001b[38;5;33mDense\u001b[0m)                      │ ?                           │     \u001b[38;5;34m0\u001b[0m (unbuilt) │\n",
       "├──────────────────────────────────────┼─────────────────────────────┼─────────────────┤\n",
       "│ dense_2 (\u001b[38;5;33mDense\u001b[0m)                      │ ?                           │     \u001b[38;5;34m0\u001b[0m (unbuilt) │\n",
       "└──────────────────────────────────────┴─────────────────────────────┴─────────────────┘\n"
      ]
     },
     "metadata": {},
     "output_type": "display_data"
    },
    {
     "data": {
      "text/html": [
       "<pre style=\"white-space:pre;overflow-x:auto;line-height:normal;font-family:Menlo,'DejaVu Sans Mono',consolas,'Courier New',monospace\"><span style=\"font-weight: bold\"> Total params: </span><span style=\"color: #00af00; text-decoration-color: #00af00\">0</span> (0.00 B)\n",
       "</pre>\n"
      ],
      "text/plain": [
       "\u001b[1m Total params: \u001b[0m\u001b[38;5;34m0\u001b[0m (0.00 B)\n"
      ]
     },
     "metadata": {},
     "output_type": "display_data"
    },
    {
     "data": {
      "text/html": [
       "<pre style=\"white-space:pre;overflow-x:auto;line-height:normal;font-family:Menlo,'DejaVu Sans Mono',consolas,'Courier New',monospace\"><span style=\"font-weight: bold\"> Trainable params: </span><span style=\"color: #00af00; text-decoration-color: #00af00\">0</span> (0.00 B)\n",
       "</pre>\n"
      ],
      "text/plain": [
       "\u001b[1m Trainable params: \u001b[0m\u001b[38;5;34m0\u001b[0m (0.00 B)\n"
      ]
     },
     "metadata": {},
     "output_type": "display_data"
    },
    {
     "data": {
      "text/html": [
       "<pre style=\"white-space:pre;overflow-x:auto;line-height:normal;font-family:Menlo,'DejaVu Sans Mono',consolas,'Courier New',monospace\"><span style=\"font-weight: bold\"> Non-trainable params: </span><span style=\"color: #00af00; text-decoration-color: #00af00\">0</span> (0.00 B)\n",
       "</pre>\n"
      ],
      "text/plain": [
       "\u001b[1m Non-trainable params: \u001b[0m\u001b[38;5;34m0\u001b[0m (0.00 B)\n"
      ]
     },
     "metadata": {},
     "output_type": "display_data"
    }
   ],
   "source": [
    "model.summary()"
   ]
  },
  {
   "cell_type": "markdown",
   "id": "9554ef3a",
   "metadata": {},
   "source": [
    "## Training the Model without class weights\n",
    "We train the model using a batch size of 64 and validate it on the testing set."
   ]
  },
  {
   "cell_type": "code",
   "execution_count": 12,
   "id": "b239d3ca",
   "metadata": {},
   "outputs": [
    {
     "name": "stdout",
     "output_type": "stream",
     "text": [
      "Epoch 1/10\n",
      "\u001b[1m310/310\u001b[0m \u001b[32m━━━━━━━━━━━━━━━━━━━━\u001b[0m\u001b[37m\u001b[0m \u001b[1m92s\u001b[0m 297ms/step - accuracy: 0.9050 - loss: 0.2954 - val_accuracy: 0.8816 - val_loss: 0.3373\n",
      "Epoch 2/10\n",
      "\u001b[1m310/310\u001b[0m \u001b[32m━━━━━━━━━━━━━━━━━━━━\u001b[0m\u001b[37m\u001b[0m \u001b[1m89s\u001b[0m 288ms/step - accuracy: 0.9206 - loss: 0.2561 - val_accuracy: 0.8822 - val_loss: 0.3865\n",
      "Epoch 3/10\n",
      "\u001b[1m310/310\u001b[0m \u001b[32m━━━━━━━━━━━━━━━━━━━━\u001b[0m\u001b[37m\u001b[0m \u001b[1m88s\u001b[0m 284ms/step - accuracy: 0.9241 - loss: 0.2313 - val_accuracy: 0.8673 - val_loss: 0.4208\n",
      "Epoch 4/10\n",
      "\u001b[1m310/310\u001b[0m \u001b[32m━━━━━━━━━━━━━━━━━━━━\u001b[0m\u001b[37m\u001b[0m \u001b[1m88s\u001b[0m 284ms/step - accuracy: 0.9439 - loss: 0.1682 - val_accuracy: 0.8747 - val_loss: 0.4233\n",
      "Epoch 5/10\n",
      "\u001b[1m310/310\u001b[0m \u001b[32m━━━━━━━━━━━━━━━━━━━━\u001b[0m\u001b[37m\u001b[0m \u001b[1m87s\u001b[0m 281ms/step - accuracy: 0.9630 - loss: 0.1204 - val_accuracy: 0.8715 - val_loss: 0.4813\n"
     ]
    }
   ],
   "source": [
    "history = model.fit(X_train, y_train, validation_data=(X_test, y_test), epochs=10, batch_size=64, callbacks=[early_stopping])"
   ]
  },
  {
   "cell_type": "code",
   "execution_count": 13,
   "id": "b438ad92-80da-4481-972c-1cc0da9c8467",
   "metadata": {},
   "outputs": [
    {
     "name": "stdout",
     "output_type": "stream",
     "text": [
      "\u001b[1m155/155\u001b[0m \u001b[32m━━━━━━━━━━━━━━━━━━━━\u001b[0m\u001b[37m\u001b[0m \u001b[1m10s\u001b[0m 67ms/step\n",
      "Metrics saved to model_metrics.csv\n"
     ]
    },
    {
     "name": "stderr",
     "output_type": "stream",
     "text": [
      "C:\\Users\\Anutosh tiwari\\anaconda3\\Lib\\site-packages\\sklearn\\metrics\\_classification.py:1344: UndefinedMetricWarning: Precision is ill-defined and being set to 0.0 in labels with no predicted samples. Use `zero_division` parameter to control this behavior.\n",
      "  _warn_prf(average, modifier, msg_start, len(result))\n"
     ]
    }
   ],
   "source": [
    "save_data(model,X_test,y_test,'Bidirectional LSTM without class weights')"
   ]
  },
  {
   "cell_type": "markdown",
   "id": "400d65ac-b984-4ebe-9861-609035a69dc9",
   "metadata": {},
   "source": [
    "# Model with dynamic class weights"
   ]
  },
  {
   "cell_type": "code",
   "execution_count": 15,
   "id": "d9dcad18-900c-41e0-ac79-abb6253d98e1",
   "metadata": {},
   "outputs": [
    {
     "name": "stdout",
     "output_type": "stream",
     "text": [
      "\u001b[1m310/310\u001b[0m \u001b[32m━━━━━━━━━━━━━━━━━━━━\u001b[0m\u001b[37m\u001b[0m \u001b[1m85s\u001b[0m 273ms/step - accuracy: 0.9035 - loss: 0.6119\n",
      "\u001b[1m155/155\u001b[0m \u001b[32m━━━━━━━━━━━━━━━━━━━━\u001b[0m\u001b[37m\u001b[0m \u001b[1m10s\u001b[0m 66ms/step\n",
      "Epoch 1 Recall: [0.42758621 0.91283925 0.73293413], Mean Recall: 0.6911198623557722\n",
      "Updated Class Weights: {0: 0.689655172413793, 1: 0.10344827586206895, 2: 0.2068965517241379}\n",
      "\u001b[1m310/310\u001b[0m \u001b[32m━━━━━━━━━━━━━━━━━━━━\u001b[0m\u001b[37m\u001b[0m \u001b[1m82s\u001b[0m 266ms/step - accuracy: 0.9307 - loss: 0.0449\n",
      "\u001b[1m155/155\u001b[0m \u001b[32m━━━━━━━━━━━━━━━━━━━━\u001b[0m\u001b[37m\u001b[0m \u001b[1m10s\u001b[0m 66ms/step\n",
      "Epoch 2 Recall: [0.52068966 0.8723904  0.75209581], Mean Recall: 0.715058620071785\n",
      "Updated Class Weights: {0: 0.7308970099667774, 1: 0.08970099667774085, 2: 0.1794019933554817}\n",
      "\u001b[1m310/310\u001b[0m \u001b[32m━━━━━━━━━━━━━━━━━━━━\u001b[0m\u001b[37m\u001b[0m \u001b[1m81s\u001b[0m 263ms/step - accuracy: 0.9324 - loss: 0.0329\n",
      "\u001b[1m155/155\u001b[0m \u001b[32m━━━━━━━━━━━━━━━━━━━━\u001b[0m\u001b[37m\u001b[0m \u001b[1m10s\u001b[0m 67ms/step\n",
      "Epoch 3 Recall: [0.47586207 0.88804802 0.7748503 ], Mean Recall: 0.7129201283560587\n",
      "Updated Class Weights: {0: 0.7836153161175424, 1: 0.07212822796081925, 2: 0.1442564559216385}\n",
      "\u001b[1m310/310\u001b[0m \u001b[32m━━━━━━━━━━━━━━━━━━━━\u001b[0m\u001b[37m\u001b[0m \u001b[1m83s\u001b[0m 268ms/step - accuracy: 0.9443 - loss: 0.0226\n",
      "\u001b[1m155/155\u001b[0m \u001b[32m━━━━━━━━━━━━━━━━━━━━\u001b[0m\u001b[37m\u001b[0m \u001b[1m10s\u001b[0m 67ms/step\n",
      "Epoch 4 Recall: [0.42758621 0.89848643 0.76766467], Mean Recall: 0.6979124358726216\n",
      "Early stopping triggered. No significant improvement in recall.\n"
     ]
    }
   ],
   "source": [
    "# Initial class weights\n",
    "class_weights = {0: 5, 1: 1, 2: 2}\n",
    "epochs = 10\n",
    "patience = 2  # Number of epochs to wait before stopping if no improvement\n",
    "min_delta = 0.001  # Minimum improvement in recall to reset patience\n",
    "best_recall = 0\n",
    "patience_counter = 0\n",
    "\n",
    "# Number of classes\n",
    "num_classes = 3\n",
    "\n",
    "# Training loop\n",
    "for epoch in range(epochs):\n",
    "    # Train the model for one epoch\n",
    "    model.fit(X_train, y_train, epochs=1, batch_size=64, class_weight=class_weights)\n",
    "    \n",
    "    # Evaluate model performance on validation set\n",
    "    y_pred_probs = model.predict(X_test)  # Predicted probabilities\n",
    "    y_pred_classes = np.argmax(y_pred_probs, axis=1)  # Predicted class labels\n",
    "    \n",
    "    # Calculate recall for each class\n",
    "    recall = recall_score(y_test, y_pred_classes, average=None, zero_division=0)\n",
    "    mean_recall = np.mean(recall)  # Average recall across all classes\n",
    "    \n",
    "    # Print recall scores for the current epoch\n",
    "    print(f'Epoch {epoch + 1} Recall: {recall}, Mean Recall: {mean_recall}')\n",
    "    \n",
    "    # Check for improvement in mean recall\n",
    "    if mean_recall > best_recall + min_delta:\n",
    "        best_recall = mean_recall\n",
    "        patience_counter = 0  # Reset patience counter if recall improves\n",
    "    else:\n",
    "        patience_counter += 1  # Increment patience counter if no improvement\n",
    "    \n",
    "    # Stop training if patience runs out\n",
    "    if patience_counter >= patience:\n",
    "        print(\"Early stopping triggered. No significant improvement in recall.\")\n",
    "        break\n",
    "    \n",
    "    # Adjust class weights based on recall\n",
    "    for i in range(num_classes):\n",
    "        if recall[i] < 0.5:  # If recall is low for a class\n",
    "            class_weights[i] *= 1.2  # Increase weight for that class\n",
    "        elif recall[i] < 0.7:  # If recall is moderate\n",
    "            class_weights[i] *= 1.1  # Slightly increase weight\n",
    "        else:  # If recall is high\n",
    "            class_weights[i] *= 0.9  # Reduce weight slightly to focus on other classes\n",
    "    \n",
    "    # Normalize class weights to prevent exploding values\n",
    "    total_weight = sum(class_weights.values())\n",
    "    class_weights = {k: v / total_weight for k, v in class_weights.items()}\n",
    "    \n",
    "    print(f'Updated Class Weights: {class_weights}')\n"
   ]
  },
  {
   "cell_type": "code",
   "execution_count": 16,
   "id": "8bbfb67f-fef1-4c34-8387-e11d44e7e9e7",
   "metadata": {},
   "outputs": [
    {
     "name": "stdout",
     "output_type": "stream",
     "text": [
      "\u001b[1m155/155\u001b[0m \u001b[32m━━━━━━━━━━━━━━━━━━━━\u001b[0m\u001b[37m\u001b[0m \u001b[1m10s\u001b[0m 66ms/step\n",
      "Metrics saved to model_metrics.csv\n"
     ]
    }
   ],
   "source": [
    "save_data(model,X_test,y_test,'Bidirectional LSTM with class weights')"
   ]
  },
  {
   "cell_type": "markdown",
   "id": "66d57fb9",
   "metadata": {},
   "source": [
    "## Evaluating the Model\n",
    "Finally, we'll evaluate the model on the test data to calculate its accuracy and loss."
   ]
  },
  {
   "cell_type": "code",
   "execution_count": 17,
   "id": "3a74e70e-50f6-4244-aa03-cd72babe70be",
   "metadata": {},
   "outputs": [
    {
     "name": "stdout",
     "output_type": "stream",
     "text": [
      "\u001b[1m155/155\u001b[0m \u001b[32m━━━━━━━━━━━━━━━━━━━━\u001b[0m\u001b[37m\u001b[0m \u001b[1m10s\u001b[0m 63ms/step\n"
     ]
    }
   ],
   "source": [
    "y_pred = model.predict(X_test)\n",
    "y_pred_classes = y_pred.argmax(axis=1)"
   ]
  },
  {
   "cell_type": "code",
   "execution_count": 19,
   "id": "075d9fad-df91-4b19-8331-6e1acf78febb",
   "metadata": {},
   "outputs": [
    {
     "name": "stdout",
     "output_type": "stream",
     "text": [
      "\n",
      "Classification Report:\n",
      "              precision    recall  f1-score   support\n",
      "\n",
      "           0       0.29      0.43      0.35       290\n",
      "           1       0.93      0.90      0.91      3832\n",
      "           2       0.78      0.77      0.77       835\n",
      "\n",
      "    accuracy                           0.85      4957\n",
      "   macro avg       0.67      0.70      0.68      4957\n",
      "weighted avg       0.87      0.85      0.86      4957\n",
      "\n"
     ]
    }
   ],
   "source": [
    "import numpy as np\n",
    "from sklearn.metrics import confusion_matrix, classification_report\n",
    "import seaborn as sns\n",
    "import matplotlib.pyplot as plt\n",
    "\n",
    "\n",
    "# Print classification report\n",
    "print(\"\\nClassification Report:\")\n",
    "print(classification_report(y_test, y_pred_classes))\n"
   ]
  },
  {
   "cell_type": "code",
   "execution_count": 44,
   "id": "6f55319d-5e41-4aa6-bb61-4f3d5f61e7eb",
   "metadata": {},
   "outputs": [
    {
     "name": "stdout",
     "output_type": "stream",
     "text": [
      "\u001b[1m155/155\u001b[0m \u001b[32m━━━━━━━━━━━━━━━━━━━━\u001b[0m\u001b[37m\u001b[0m \u001b[1m11s\u001b[0m 70ms/step\n",
      "Metrics saved to model_metrics.csv\n"
     ]
    }
   ],
   "source": [
    "save_data(model,X_test,y_test,'Bidirectional LSTM')"
   ]
  },
  {
   "cell_type": "code",
   "execution_count": 21,
   "id": "ebc02d14-01cf-4630-9f4f-d978bfaa4532",
   "metadata": {},
   "outputs": [
    {
     "data": {
      "image/png": "[encoded data removed]",
      "text/plain": [
       "<Figure size 1000x800 with 1 Axes>"
      ]
     },
     "metadata": {},
     "output_type": "display_data"
    }
   ],
   "source": [
    "\n",
    "# Assuming `y_test` contains true labels and `y_pred_probs` contains predicted probabilities\n",
    "\n",
    "# One-hot encode y_test for multi-class ROC\n",
    "num_classes = len(set(y_test))  # Number of classes\n",
    "y_test_binarized = label_binarize(y_test, classes=range(num_classes))\n",
    "\n",
    "# Compute AUC for each class\n",
    "auc_per_class = roc_auc_score(y_test_binarized, y_pred_probs, average=None)\n",
    "\n",
    "# Plot ROC curve for each class\n",
    "plt.figure(figsize=(10, 8))\n",
    "for i in range(num_classes):\n",
    "    fpr, tpr, _ = roc_curve(y_test_binarized[:, i], y_pred_probs[:, i])\n",
    "    plt.plot(fpr, tpr, label=f'Class {i} (AUC = {auc_per_class[i]:.2f})')\n",
    "\n",
    "# Add diagonal reference line\n",
    "plt.plot([0, 1], [0, 1], 'k--', label='Random Guess')\n",
    "\n",
    "# Plot settings\n",
    "plt.title('ROC Curve for Each Class')\n",
    "plt.xlabel('False Positive Rate (FPR)')\n",
    "plt.ylabel('True Positive Rate (TPR)')\n",
    "plt.legend(loc='lower right')\n",
    "plt.grid()\n",
    "plt.show()\n"
   ]
  },
  {
   "cell_type": "code",
   "execution_count": null,
   "id": "90973a56-36f5-4081-93d4-59e2f210dddf",
   "metadata": {},
   "outputs": [],
   "source": []
  }
 ],
 "metadata": {
  "kernelspec": {
   "display_name": "Python 3 (ipykernel)",
   "language": "python",
   "name": "python3"
  },
  "language_info": {
   "codemirror_mode": {
    "name": "ipython",
    "version": 3
   },
   "file_extension": ".py",
   "mimetype": "text/x-python",
   "name": "python",
   "nbconvert_exporter": "python",
   "pygments_lexer": "ipython3",
   "version": "3.11.7"
  }
 },
 "nbformat": 4,
 "nbformat_minor": 5
}
