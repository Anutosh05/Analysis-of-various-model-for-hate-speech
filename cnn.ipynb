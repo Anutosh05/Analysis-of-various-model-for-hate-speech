{
 "cells": [
  {
   "cell_type": "code",
   "execution_count": 1,
   "id": "1cfb9347",
   "metadata": {},
   "outputs": [],
   "source": [
    "import pandas as pd\n",
    "import numpy as np\n",
    "import tensorflow as tf\n",
    "from tensorflow.keras.preprocessing.text import Tokenizer\n",
    "from tensorflow.keras.preprocessing.sequence import pad_sequences\n",
    "from sklearn.model_selection import train_test_split\n",
    "from tensorflow.keras.models import Sequential\n",
    "from tensorflow.keras.layers import Embedding, Conv1D, GlobalMaxPooling1D, Dense, Dropout\n",
    "from tensorflow.keras.callbacks import EarlyStopping\n",
    "from sklearn.metrics import classification_report, confusion_matrix, ConfusionMatrixDisplay, recall_score, roc_curve, roc_auc_score\n",
    "import matplotlib.pyplot as plt\n",
    "from sklearn.preprocessing import label_binarize\n",
    "from tensorflow.keras.regularizers import l2\n",
    "import csv\n",
    "from sklearn.metrics import precision_score, recall_score, f1_score, roc_auc_score\n",
    "from sklearn.preprocessing import label_binarize\n"
   ]
  },
  {
   "cell_type": "code",
   "execution_count": 2,
   "id": "179ddbac-e928-4d4b-9e0c-bb44e0f26c4a",
   "metadata": {},
   "outputs": [],
   "source": [
    "from data_split_ready import split_data"
   ]
  },
  {
   "cell_type": "markdown",
   "id": "357b7013",
   "metadata": {},
   "source": [
    "\n",
    "# Split the data into training and testing sets"
   ]
  },
  {
   "cell_type": "code",
   "execution_count": 3,
   "id": "228ae1c5",
   "metadata": {},
   "outputs": [],
   "source": [
    "\n",
    "X_train, X_test, y_train, y_test,tokenizer =split_data('processed_text.csv')\n"
   ]
  },
  {
   "cell_type": "markdown",
   "id": "42c51d5e-8740-4f5c-ba92-0662b888cf6f",
   "metadata": {},
   "source": [
    "### Explanation\n",
    "\n",
    "- **Vocabulary Size**: \n",
    "  - The `vocab_size = len(tokenizer.word_index) + 1` line calculates the size of the vocabulary (total unique words in the dataset) by looking at the tokenizer's word index. The `+1` is added to account for the padding token, which is typically indexed as 0.\n",
    "  \n",
    "- **Maximum Sequence Length**: \n",
    "  - The `max_length = max(len(sequence) for sequence in X_train)` line calculates the maximum length of the sequences in the training set (`X_train`). This is necessary to standardize the input length for the neural network.\n",
    "\n",
    "- **Padding Sequences**: \n",
    "  - The `pad_sequences(X_train, maxlen=max_length)` and `pad_sequences(X_test, maxlen=max_length)` functions ensure that all sequences (both in the training and testing sets) have the same length (`max_length`). This is done by padding shorter sequences with zeros or truncating longer sequences to the desired length.\n",
    "\n",
    "### Purpose:\n",
    "- **Vocabulary Size**: It determines the total number of words that the model needs to learn embeddings for.\n",
    "- **Max Length**: It standardizes the input length of all sequences, which is crucial for deep learning models to process the data correctly.\n",
    "- **Padding**: It ensures that all sequences are the same length, enabling the model to process batches of data efficiently without varying sequence lengths.\n"
   ]
  },
  {
   "cell_type": "code",
   "execution_count": 4,
   "id": "d4837dcb-5ee1-40e8-a2ad-8aeffd038ccf",
   "metadata": {},
   "outputs": [],
   "source": [
    "vocab_size = len(tokenizer.word_index) + 1"
   ]
  },
  {
   "cell_type": "code",
   "execution_count": 5,
   "id": "29495514-e575-44d7-a723-1dab28f97693",
   "metadata": {},
   "outputs": [
    {
     "name": "stdout",
     "output_type": "stream",
     "text": [
      "29\n"
     ]
    }
   ],
   "source": [
    "max_length = max(len(sequence) for sequence in X_train)\n",
    "print(max_length)\n",
    "X_train = pad_sequences(X_train, maxlen=max_length)\n",
    "X_test=pad_sequences(X_test, maxlen=max_length)"
   ]
  },
  {
   "cell_type": "markdown",
   "id": "ac58ef3e",
   "metadata": {},
   "source": [
    "\n",
    "# Define the CNN model"
   ]
  },
  {
   "cell_type": "markdown",
   "id": "7fd2fe3d-9cd4-468f-ba7a-ea2663c1c872",
   "metadata": {},
   "source": [
    "### Model Architecture Explanation\r\n",
    "\r\n",
    "1. **Embedding Layer**:\r\n",
    "   - Converts text data into dense vectors (100 dimensions).\r\n",
    "   - Uses L2 regularization to prevent overfitting.\r\n",
    "\r\n",
    "2. **Convolutional Layer**:\r\n",
    "   - Applies 128 filters with a kernel size of 5 to capture features from the sequences.\r\n",
    "   - Uses `ReLU` activation for non-linearity and L2 regularization to reduce overfitting.\r\n",
    "\r\n",
    "3. **Max Pooling Layer**:\r\n",
    "   - Reduces dimensionality by taking the maximum value from the feature map to highlight important features.\r\n",
    "\r\n",
    "4. **Dense Layer**:\r\n",
    "   - A fully connected layer with 64 units, using `ReLU` activation to learn complex patterns.\r\n",
    "   - L2 regularization is applied to prevent overfitting.\r\n",
    "\r\n",
    "5. **Dropout Layer**:\r\n",
    "   - Randomly drops units during training (rate 0 means no dropout), used for regularization to avoid overfitting.\r\n",
    "\r\n",
    "6. **Second Dense Layer**:\r\n",
    "   - Another fully connected layer with 64 units and `ReLU` activation to refine learned features.\r\n",
    "\r\n",
    "7. **Second Dropout Layer**:\r\n",
    "   - Similar to the first dropout layer, helps to prevent overfitting.\r\n",
    "\r\n",
    "8. **Output Layer**:\r\n",
    "   - A dense layer with 3 units (for 3 classes) and `softmax` activation to output class probabilities.\r\n"
   ]
  },
  {
   "cell_type": "code",
   "execution_count": 8,
   "id": "59383315",
   "metadata": {},
   "outputs": [],
   "source": [
    "model = Sequential()\n",
    "\n",
    "# Embedding layer with L2 regularization\n",
    "model.add(Embedding(vocab_size, 100, input_length=max_length, embeddings_regularizer=l2(0.01)))\n",
    "\n",
    "# First convolutional layer with L2 regularization\n",
    "model.add(Conv1D(128, 5, activation='relu', kernel_regularizer=l2(0.01)))\n",
    "\n",
    "# Max pooling layer after the convolution layers\n",
    "model.add(GlobalMaxPooling1D())\n",
    "\n",
    "# Dense layers with increased dropout\n",
    "model.add(Dense(64, activation='relu', kernel_regularizer=l2(0.01)))\n",
    "model.add(Dropout(0.))  # Increased dropout to 0.5\n",
    "model.add(Dense(64, activation='relu', kernel_regularizer=l2(0.01)))\n",
    "model.add(Dropout(0.))  # Increased dropout to 0.5\n",
    "model.add(Dense(3, activation='softmax'))"
   ]
  },
  {
   "cell_type": "markdown",
   "id": "6522b867",
   "metadata": {},
   "source": [
    "\n",
    "# Compile the model"
   ]
  },
  {
   "cell_type": "markdown",
   "id": "20ea2bcf-7be3-4a30-9342-817986d9b5e2",
   "metadata": {},
   "source": [
    "### Model Compilation Explanation\n",
    "\n",
    "- **Loss Function**: `sparse_categorical_crossentropy`\n",
    "  - Used for multi-class classification when the target labels are integers (not one-hot encoded).\n",
    "  - Measures the difference between the predicted probabilities and the true class labels.\n",
    "  \n",
    "- **Optimizer**: `adam`\n",
    "  - An adaptive optimizer that combines the benefits of `Adagrad` and `RMSProp`, and works well in practice for training deep learning models.\n",
    "  \n",
    "- **Metrics**: `accuracy`\n",
    "  - Measures the percentage of correctly classified instances.\n",
    "  - Common metric for evaluating classification performance.\n"
   ]
  },
  {
   "cell_type": "code",
   "execution_count": 9,
   "id": "8789fd9d",
   "metadata": {},
   "outputs": [],
   "source": [
    "\n",
    "model.compile(loss='sparse_categorical_crossentropy', optimizer='adam', metrics=['accuracy'])\n"
   ]
  },
  {
   "cell_type": "markdown",
   "id": "156bb529",
   "metadata": {},
   "source": [
    "\n",
    "# Define early stopping callback"
   ]
  },
  {
   "cell_type": "code",
   "execution_count": 10,
   "id": "2d067007",
   "metadata": {},
   "outputs": [],
   "source": [
    "\n",
    "early_stopping = EarlyStopping(monitor='val_accuracy', patience=3, restore_best_weights=True)\n"
   ]
  },
  {
   "cell_type": "markdown",
   "id": "f2058fa1",
   "metadata": {},
   "source": [
    "\n",
    "# Print the model summary"
   ]
  },
  {
   "cell_type": "code",
   "execution_count": 11,
   "id": "c5c8266b",
   "metadata": {},
   "outputs": [
    {
     "data": {
      "text/html": [
       "<pre style=\"white-space:pre;overflow-x:auto;line-height:normal;font-family:Menlo,'DejaVu Sans Mono',consolas,'Courier New',monospace\"><span style=\"font-weight: bold\">Model: \"sequential_1\"</span>\n",
       "</pre>\n"
      ],
      "text/plain": [
       "\u001b[1mModel: \"sequential_1\"\u001b[0m\n"
      ]
     },
     "metadata": {},
     "output_type": "display_data"
    },
    {
     "data": {
      "text/html": [
       "<pre style=\"white-space:pre;overflow-x:auto;line-height:normal;font-family:Menlo,'DejaVu Sans Mono',consolas,'Courier New',monospace\">┏━━━━━━━━━━━━━━━━━━━━━━━━━━━━━━━━━━━━━━┳━━━━━━━━━━━━━━━━━━━━━━━━━━━━━┳━━━━━━━━━━━━━━━━━┓\n",
       "┃<span style=\"font-weight: bold\"> Layer (type)                         </span>┃<span style=\"font-weight: bold\"> Output Shape                </span>┃<span style=\"font-weight: bold\">         Param # </span>┃\n",
       "┡━━━━━━━━━━━━━━━━━━━━━━━━━━━━━━━━━━━━━━╇━━━━━━━━━━━━━━━━━━━━━━━━━━━━━╇━━━━━━━━━━━━━━━━━┩\n",
       "│ embedding_1 (<span style=\"color: #0087ff; text-decoration-color: #0087ff\">Embedding</span>)              │ ?                           │     <span style=\"color: #00af00; text-decoration-color: #00af00\">0</span> (unbuilt) │\n",
       "├──────────────────────────────────────┼─────────────────────────────┼─────────────────┤\n",
       "│ conv1d_1 (<span style=\"color: #0087ff; text-decoration-color: #0087ff\">Conv1D</span>)                    │ ?                           │     <span style=\"color: #00af00; text-decoration-color: #00af00\">0</span> (unbuilt) │\n",
       "├──────────────────────────────────────┼─────────────────────────────┼─────────────────┤\n",
       "│ global_max_pooling1d_1               │ ?                           │               <span style=\"color: #00af00; text-decoration-color: #00af00\">0</span> │\n",
       "│ (<span style=\"color: #0087ff; text-decoration-color: #0087ff\">GlobalMaxPooling1D</span>)                 │                             │                 │\n",
       "├──────────────────────────────────────┼─────────────────────────────┼─────────────────┤\n",
       "│ dense_2 (<span style=\"color: #0087ff; text-decoration-color: #0087ff\">Dense</span>)                      │ ?                           │     <span style=\"color: #00af00; text-decoration-color: #00af00\">0</span> (unbuilt) │\n",
       "├──────────────────────────────────────┼─────────────────────────────┼─────────────────┤\n",
       "│ dropout_1 (<span style=\"color: #0087ff; text-decoration-color: #0087ff\">Dropout</span>)                  │ ?                           │               <span style=\"color: #00af00; text-decoration-color: #00af00\">0</span> │\n",
       "├──────────────────────────────────────┼─────────────────────────────┼─────────────────┤\n",
       "│ dense_3 (<span style=\"color: #0087ff; text-decoration-color: #0087ff\">Dense</span>)                      │ ?                           │     <span style=\"color: #00af00; text-decoration-color: #00af00\">0</span> (unbuilt) │\n",
       "├──────────────────────────────────────┼─────────────────────────────┼─────────────────┤\n",
       "│ dropout_2 (<span style=\"color: #0087ff; text-decoration-color: #0087ff\">Dropout</span>)                  │ ?                           │               <span style=\"color: #00af00; text-decoration-color: #00af00\">0</span> │\n",
       "├──────────────────────────────────────┼─────────────────────────────┼─────────────────┤\n",
       "│ dense_4 (<span style=\"color: #0087ff; text-decoration-color: #0087ff\">Dense</span>)                      │ ?                           │     <span style=\"color: #00af00; text-decoration-color: #00af00\">0</span> (unbuilt) │\n",
       "└──────────────────────────────────────┴─────────────────────────────┴─────────────────┘\n",
       "</pre>\n"
      ],
      "text/plain": [
       "┏━━━━━━━━━━━━━━━━━━━━━━━━━━━━━━━━━━━━━━┳━━━━━━━━━━━━━━━━━━━━━━━━━━━━━┳━━━━━━━━━━━━━━━━━┓\n",
       "┃\u001b[1m \u001b[0m\u001b[1mLayer (type)                        \u001b[0m\u001b[1m \u001b[0m┃\u001b[1m \u001b[0m\u001b[1mOutput Shape               \u001b[0m\u001b[1m \u001b[0m┃\u001b[1m \u001b[0m\u001b[1m        Param #\u001b[0m\u001b[1m \u001b[0m┃\n",
       "┡━━━━━━━━━━━━━━━━━━━━━━━━━━━━━━━━━━━━━━╇━━━━━━━━━━━━━━━━━━━━━━━━━━━━━╇━━━━━━━━━━━━━━━━━┩\n",
       "│ embedding_1 (\u001b[38;5;33mEmbedding\u001b[0m)              │ ?                           │     \u001b[38;5;34m0\u001b[0m (unbuilt) │\n",
       "├──────────────────────────────────────┼─────────────────────────────┼─────────────────┤\n",
       "│ conv1d_1 (\u001b[38;5;33mConv1D\u001b[0m)                    │ ?                           │     \u001b[38;5;34m0\u001b[0m (unbuilt) │\n",
       "├──────────────────────────────────────┼─────────────────────────────┼─────────────────┤\n",
       "│ global_max_pooling1d_1               │ ?                           │               \u001b[38;5;34m0\u001b[0m │\n",
       "│ (\u001b[38;5;33mGlobalMaxPooling1D\u001b[0m)                 │                             │                 │\n",
       "├──────────────────────────────────────┼─────────────────────────────┼─────────────────┤\n",
       "│ dense_2 (\u001b[38;5;33mDense\u001b[0m)                      │ ?                           │     \u001b[38;5;34m0\u001b[0m (unbuilt) │\n",
       "├──────────────────────────────────────┼─────────────────────────────┼─────────────────┤\n",
       "│ dropout_1 (\u001b[38;5;33mDropout\u001b[0m)                  │ ?                           │               \u001b[38;5;34m0\u001b[0m │\n",
       "├──────────────────────────────────────┼─────────────────────────────┼─────────────────┤\n",
       "│ dense_3 (\u001b[38;5;33mDense\u001b[0m)                      │ ?                           │     \u001b[38;5;34m0\u001b[0m (unbuilt) │\n",
       "├──────────────────────────────────────┼─────────────────────────────┼─────────────────┤\n",
       "│ dropout_2 (\u001b[38;5;33mDropout\u001b[0m)                  │ ?                           │               \u001b[38;5;34m0\u001b[0m │\n",
       "├──────────────────────────────────────┼─────────────────────────────┼─────────────────┤\n",
       "│ dense_4 (\u001b[38;5;33mDense\u001b[0m)                      │ ?                           │     \u001b[38;5;34m0\u001b[0m (unbuilt) │\n",
       "└──────────────────────────────────────┴─────────────────────────────┴─────────────────┘\n"
      ]
     },
     "metadata": {},
     "output_type": "display_data"
    },
    {
     "data": {
      "text/html": [
       "<pre style=\"white-space:pre;overflow-x:auto;line-height:normal;font-family:Menlo,'DejaVu Sans Mono',consolas,'Courier New',monospace\"><span style=\"font-weight: bold\"> Total params: </span><span style=\"color: #00af00; text-decoration-color: #00af00\">0</span> (0.00 B)\n",
       "</pre>\n"
      ],
      "text/plain": [
       "\u001b[1m Total params: \u001b[0m\u001b[38;5;34m0\u001b[0m (0.00 B)\n"
      ]
     },
     "metadata": {},
     "output_type": "display_data"
    },
    {
     "data": {
      "text/html": [
       "<pre style=\"white-space:pre;overflow-x:auto;line-height:normal;font-family:Menlo,'DejaVu Sans Mono',consolas,'Courier New',monospace\"><span style=\"font-weight: bold\"> Trainable params: </span><span style=\"color: #00af00; text-decoration-color: #00af00\">0</span> (0.00 B)\n",
       "</pre>\n"
      ],
      "text/plain": [
       "\u001b[1m Trainable params: \u001b[0m\u001b[38;5;34m0\u001b[0m (0.00 B)\n"
      ]
     },
     "metadata": {},
     "output_type": "display_data"
    },
    {
     "data": {
      "text/html": [
       "<pre style=\"white-space:pre;overflow-x:auto;line-height:normal;font-family:Menlo,'DejaVu Sans Mono',consolas,'Courier New',monospace\"><span style=\"font-weight: bold\"> Non-trainable params: </span><span style=\"color: #00af00; text-decoration-color: #00af00\">0</span> (0.00 B)\n",
       "</pre>\n"
      ],
      "text/plain": [
       "\u001b[1m Non-trainable params: \u001b[0m\u001b[38;5;34m0\u001b[0m (0.00 B)\n"
      ]
     },
     "metadata": {},
     "output_type": "display_data"
    }
   ],
   "source": [
    "\n",
    "model.summary()\n"
   ]
  },
  {
   "cell_type": "markdown",
   "id": "ebfd4228-d432-45ad-a1d8-038deb59874d",
   "metadata": {},
   "source": [
    "### highest recall code"
   ]
  },
  {
   "cell_type": "markdown",
   "id": "1675cb44-15e5-41c6-a44d-b81008d363db",
   "metadata": {},
   "source": [
    "### Custom Training Loop with Class Weight Adjustment\r\n",
    "\r\n",
    "This code implements a custom training loop that adjusts the class weights based on recall scores after each epoch, aiming to improve model performance by handling class imbalance more effectively. Here's a breakdown of the code's functionality:\r\n",
    "\r\n",
    "- **Initial Class Weights**: \r\n",
    "  - Class weights are initialized to emphasize class 0 (weight of 5), class 1 (weight of 1), and class 2 (weight of 2). This helps address imbalanced class distributions in the dataset.\r\n",
    "\r\n",
    "- **Epochs and Early Stopping**:\r\n",
    "  - The model is trained for 10 epochs, but early stopping is implemented. If recall does not improve by at least `min_delta` (0.001) within `patience` epochs (2 in this case), training is halted to prevent overfitting.\r\n",
    "\r\n",
    "- **Recall Calculation**:\r\n",
    "  - After each epoch, recall scores for each class are computed using `recall_score` from the `sklearn` library. The average recall (`mean_recall`) is calculated to track overall model improvement.\r\n",
    "\r\n",
    "- **Class Weight Adjustment**:\r\n",
    "  - If recall for a class is below 0.5, the weight for that class is increased by 20% to focus more on that class. For moderate recall values (0.5 to 0.7), the weight is slightly increased (by 10%). For high recall (greater than 0.7), the weight is decreased slightly (by 10%) to reduce bias towards that class.\r\n",
    "  \r\n",
    "- **Normalization**:\r\n",
    "  - After adjusting the weights, the class weights are normalized so that the sum of all weights equals 1, preventing any one class from having a disproportionately large effect on the training process.\r\n",
    "\r\n",
    "- **Early Stopping Logic**:\r\n",
    "  - If the mean recall doesn't improve after a specified number of epochs (`patience`), training is stopped early to prevent unnecessary computation and overfitting.\r\n",
    "\r\n",
    "This method aims to maximize recall performance while handling class imbalance dynamically during the training process.\r\n"
   ]
  },
  {
   "cell_type": "code",
   "execution_count": 29,
   "id": "80ee12a6-9541-4b41-9a8a-e9efc55a0a93",
   "metadata": {},
   "outputs": [
    {
     "name": "stdout",
     "output_type": "stream",
     "text": [
      "\u001b[1m310/310\u001b[0m \u001b[32m━━━━━━━━━━━━━━━━━━━━\u001b[0m\u001b[37m\u001b[0m \u001b[1m8s\u001b[0m 27ms/step - accuracy: 0.8491 - loss: 0.9292\n",
      "\u001b[1m155/155\u001b[0m \u001b[32m━━━━━━━━━━━━━━━━━━━━\u001b[0m\u001b[37m\u001b[0m \u001b[1m1s\u001b[0m 4ms/step\n",
      "Epoch 1 Recall: [0.25172414 0.90840292 0.90179641], Mean Recall: 0.6873078226241347\n",
      "Updated Class Weights: {0: 0.689655172413793, 1: 0.10344827586206895, 2: 0.2068965517241379}\n",
      "\u001b[1m310/310\u001b[0m \u001b[32m━━━━━━━━━━━━━━━━━━━━\u001b[0m\u001b[37m\u001b[0m \u001b[1m9s\u001b[0m 27ms/step - accuracy: 0.8479 - loss: 0.1822\n",
      "\u001b[1m155/155\u001b[0m \u001b[32m━━━━━━━━━━━━━━━━━━━━\u001b[0m\u001b[37m\u001b[0m \u001b[1m1s\u001b[0m 4ms/step\n",
      "Epoch 2 Recall: [0.55172414 0.84368476 0.9497006 ], Mean Recall: 0.7817031655499741\n",
      "Updated Class Weights: {0: 0.7308970099667774, 1: 0.08970099667774085, 2: 0.1794019933554817}\n",
      "\u001b[1m310/310\u001b[0m \u001b[32m━━━━━━━━━━━━━━━━━━━━\u001b[0m\u001b[37m\u001b[0m \u001b[1m8s\u001b[0m 26ms/step - accuracy: 0.8337 - loss: 0.1402\n",
      "\u001b[1m155/155\u001b[0m \u001b[32m━━━━━━━━━━━━━━━━━━━━\u001b[0m\u001b[37m\u001b[0m \u001b[1m1s\u001b[0m 4ms/step\n",
      "Epoch 3 Recall: [0.6        0.80975992 0.9497006 ], Mean Recall: 0.7864868384316961\n",
      "Updated Class Weights: {0: 0.7684979358526517, 1: 0.07716735471578279, 2: 0.15433470943156558}\n",
      "\u001b[1m310/310\u001b[0m \u001b[32m━━━━━━━━━━━━━━━━━━━━\u001b[0m\u001b[37m\u001b[0m \u001b[1m7s\u001b[0m 24ms/step - accuracy: 0.8239 - loss: 0.1315\n",
      "\u001b[1m155/155\u001b[0m \u001b[32m━━━━━━━━━━━━━━━━━━━━\u001b[0m\u001b[37m\u001b[0m \u001b[1m1s\u001b[0m 4ms/step\n",
      "Epoch 4 Recall: [0.60689655 0.80975992 0.9497006 ], Mean Recall: 0.7887856890064088\n",
      "Updated Class Weights: {0: 0.8022663572526447, 1: 0.06591121424911847, 2: 0.13182242849823694}\n",
      "\u001b[1m310/310\u001b[0m \u001b[32m━━━━━━━━━━━━━━━━━━━━\u001b[0m\u001b[37m\u001b[0m \u001b[1m7s\u001b[0m 24ms/step - accuracy: 0.8137 - loss: 0.1238\n",
      "\u001b[1m155/155\u001b[0m \u001b[32m━━━━━━━━━━━━━━━━━━━━\u001b[0m\u001b[37m\u001b[0m \u001b[1m1s\u001b[0m 4ms/step\n",
      "Epoch 5 Recall: [0.62413793 0.80975992 0.94850299], Mean Recall: 0.7941336138463839\n",
      "Updated Class Weights: {0: 0.8321847051033199, 1: 0.05593843163222676, 2: 0.11187686326445352}\n",
      "\u001b[1m310/310\u001b[0m \u001b[32m━━━━━━━━━━━━━━━━━━━━\u001b[0m\u001b[37m\u001b[0m \u001b[1m8s\u001b[0m 25ms/step - accuracy: 0.7381 - loss: 0.1149\n",
      "\u001b[1m155/155\u001b[0m \u001b[32m━━━━━━━━━━━━━━━━━━━━\u001b[0m\u001b[37m\u001b[0m \u001b[1m1s\u001b[0m 4ms/step\n",
      "Epoch 6 Recall: [0.76551724 0.80975992 0.        ], Mean Recall: 0.5250923859573344\n",
      "Updated Class Weights: {0: 0.8022663572526446, 1: 0.053927357112915096, 2: 0.14380628563444026}\n",
      "\u001b[1m310/310\u001b[0m \u001b[32m━━━━━━━━━━━━━━━━━━━━\u001b[0m\u001b[37m\u001b[0m \u001b[1m8s\u001b[0m 24ms/step - accuracy: 0.7509 - loss: 0.1175\n",
      "\u001b[1m155/155\u001b[0m \u001b[32m━━━━━━━━━━━━━━━━━━━━\u001b[0m\u001b[37m\u001b[0m \u001b[1m1s\u001b[0m 4ms/step\n",
      "Epoch 7 Recall: [0.64827586 0.80975992 0.90179641], Mean Recall: 0.7866107285824291\n",
      "Early stopping triggered. No significant improvement in recall.\n"
     ]
    }
   ],
   "source": [
    "# Initial class weights\n",
    "class_weights = {0: 5, 1: 1, 2: 2}\n",
    "epochs = 10\n",
    "patience = 2  # Number of epochs to wait before stopping if no improvement\n",
    "min_delta = 0.001  # Minimum improvement in recall to reset patience\n",
    "best_recall = 0\n",
    "patience_counter = 0\n",
    "\n",
    "# Number of classes\n",
    "num_classes = 3\n",
    "\n",
    "# Training loop\n",
    "for epoch in range(epochs):\n",
    "    # Train the model for one epoch\n",
    "    model.fit(X_train, y_train, epochs=1, batch_size=64, class_weight=class_weights)\n",
    "    \n",
    "    # Evaluate model performance on validation set\n",
    "    y_pred_probs = model.predict(X_test)  # Predicted probabilities\n",
    "    y_pred_classes = np.argmax(y_pred_probs, axis=1)  # Predicted class labels\n",
    "    \n",
    "    # Calculate recall for each class\n",
    "    recall = recall_score(y_test, y_pred_classes, average=None, zero_division=0)\n",
    "    mean_recall = np.mean(recall)  # Average recall across all classes\n",
    "    \n",
    "    # Print recall scores for the current epoch\n",
    "    print(f'Epoch {epoch + 1} Recall: {recall}, Mean Recall: {mean_recall}')\n",
    "    \n",
    "    # Check for improvement in mean recall\n",
    "    if mean_recall > best_recall + min_delta:\n",
    "        best_recall = mean_recall\n",
    "        patience_counter = 0  # Reset patience counter if recall improves\n",
    "    else:\n",
    "        patience_counter += 1  # Increment patience counter if no improvement\n",
    "    \n",
    "    # Stop training if patience runs out\n",
    "    if patience_counter >= patience:\n",
    "        print(\"Early stopping triggered. No significant improvement in recall.\")\n",
    "        break\n",
    "    \n",
    "    # Adjust class weights based on recall\n",
    "    for i in range(num_classes):\n",
    "        if recall[i] < 0.5:  # If recall is low for a class\n",
    "            class_weights[i] *= 1.2  # Increase weight for that class\n",
    "        elif recall[i] < 0.7:  # If recall is moderate\n",
    "            class_weights[i] *= 1.1  # Slightly increase weight\n",
    "        else:  # If recall is high\n",
    "            class_weights[i] *= 0.9  # Reduce weight slightly to focus on other classes\n",
    "    \n",
    "    # Normalize class weights to prevent exploding values\n",
    "    total_weight = sum(class_weights.values())\n",
    "    class_weights = {k: v / total_weight for k, v in class_weights.items()}\n",
    "    \n",
    "    print(f'Updated Class Weights: {class_weights}')\n"
   ]
  },
  {
   "cell_type": "markdown",
   "id": "50bd73fe",
   "metadata": {},
   "source": [
    "\n",
    "# Evaluate the model"
   ]
  },
  {
   "cell_type": "code",
   "execution_count": 30,
   "id": "07ad08d9-ca8e-46d0-88c5-3824eeb3a1b1",
   "metadata": {},
   "outputs": [
    {
     "name": "stdout",
     "output_type": "stream",
     "text": [
      "\u001b[1m155/155\u001b[0m \u001b[32m━━━━━━━━━━━━━━━━━━━━\u001b[0m\u001b[37m\u001b[0m \u001b[1m0s\u001b[0m 2ms/step\n"
     ]
    }
   ],
   "source": [
    "y_pred = model.predict(X_test)\n",
    "y_pred_classes = y_pred.argmax(axis=1)"
   ]
  },
  {
   "cell_type": "code",
   "execution_count": 31,
   "id": "74b01cdc-ca4c-4f16-a9bd-06bb44750ec6",
   "metadata": {},
   "outputs": [
    {
     "name": "stdout",
     "output_type": "stream",
     "text": [
      "\n",
      "Classification Report:\n",
      "              precision    recall  f1-score   support\n",
      "\n",
      "           0       0.24      0.65      0.35       290\n",
      "           1       0.97      0.81      0.88      3832\n",
      "           2       0.76      0.90      0.82       835\n",
      "\n",
      "    accuracy                           0.82      4957\n",
      "   macro avg       0.66      0.79      0.69      4957\n",
      "weighted avg       0.89      0.82      0.84      4957\n",
      "\n"
     ]
    }
   ],
   "source": [
    "import numpy as np\n",
    "from sklearn.metrics import confusion_matrix, classification_report\n",
    "import seaborn as sns\n",
    "import matplotlib.pyplot as plt\n",
    "\n",
    "\n",
    "# Print classification report\n",
    "print(\"\\nClassification Report:\")\n",
    "print(classification_report(y_test, y_pred_classes))\n"
   ]
  },
  {
   "cell_type": "markdown",
   "id": "de60adb0-1e15-4d8b-898b-f4c48440c84c",
   "metadata": {},
   "source": [
    "### Model Evaluation and Saving Metrics to CSV\r\n",
    "\r\n",
    "Thie evaluates the trained model on the test dataset and saves important performance metrics to a CSV file. Below is an explanation of each part:\r\n",
    "\r\n",
    "- **Model Evaluation**:\r\n",
    "  - The model's loss and accuracy are computed using `model.evaluate()` on the test dataset (`X_test` and `y_test`).\r\n",
    "\r\n",
    "- **Predictions**:\r\n",
    "  - Predicted probabilities (`y_pred_probs`) are calculated using `model.predict()`, which returns a probability distribution for each class. The predicted class labels are obtained by selecting the class with the highest probability for each test sample (`argmax(axis=1)`).\r\n",
    "\r\n",
    "- **Performance Metrics**:\r\n",
    "  - **Precision**: The weighted precision score is calculated using `precision_score`, which accounts for class imbalance by giving more weight to the more frequent classes.\r\n",
    "  - **Recall**: Recall is computed for each class using `recall_score`, which is useful for evaluating how well the model detects each class.\r\n",
    "  - **F1 Score**: The weighted F1 score is computed using `f1_score`, combining precision and recall into a single metric.\r\n",
    "\r\n",
    "- **AUC Calculation**:\r\n",
    "  - **One-Hot Encoding**: The true labels (`y_test`) are one-hot encoded to compute the Area Under the Curve (AUC) for each class using `roc_auc_score`. AUC helps assess the model’s ability to distinguish between classes.\r\n",
    "  - **AUC per Class**: The AUC values are calculated for each class individually.\r\n",
    "\r\n",
    "- **Data Preparation for Saving**:\r\n",
    "  - The model name and computed metrics (loss, accuracy, precision, recall, F1 score, and AUC for each class) are stored in a dictionary (`data`).\r\n",
    "\r\n",
    "- **Saving to CSV**:\r\n",
    "  - The metrics are saved to a CSV file named `model_metrics.csv`. The file is opened in append mode, ensuring that new rows of metrics are added without overwriting existing data.\r\n",
    "  - If the file does not exist, the header is written first, followed by the data row.\r\n",
    "  - The path of the saved file is printed to confirm the action.\r\n",
    "\r\n",
    "### Key Functions:\r\n",
    "- `precision_score`: Calculates precision, i.e., the proportion of true positive predictions out of all positive predictions.\r\n",
    "- `recall_score`: Calculates recall, i.e., the proportion of true positive predictions out of all actual positive instances.\r\n",
    "- `f1_score`: Calculates the F1 score, which is the harmonic mean of precision and recall.\r\n",
    "- `roc_auc_score`: Computes the AUC score, which measures the model’s ability to distinguish between different classes.\r\n",
    "\r\n",
    "This process ensures that key performance metrics are saved for future analysis and comparison across different models or experiments.\r\n"
   ]
  },
  {
   "cell_type": "code",
   "execution_count": 36,
   "id": "667143ab",
   "metadata": {},
   "outputs": [
    {
     "name": "stdout",
     "output_type": "stream",
     "text": [
      "\u001b[1m155/155\u001b[0m \u001b[32m━━━━━━━━━━━━━━━━━━━━\u001b[0m\u001b[37m\u001b[0m \u001b[1m0s\u001b[0m 2ms/step\n",
      "Metrics saved to model_metrics.csv\n"
     ]
    }
   ],
   "source": [
    "\n",
    "# Evaluate model\n",
    "loss, accuracy = model.evaluate(X_test, y_test, verbose=0)\n",
    "\n",
    "# Predict probabilities and classes\n",
    "y_pred_probs = model.predict(X_test)  # Predicted probabilities\n",
    "y_pred_classes = y_pred_probs.argmax(axis=1)  # Predicted class labels\n",
    "\n",
    "# Calculate precision, recall, and f1 score for each class\n",
    "precision = precision_score(y_test, y_pred_classes, average='weighted')\n",
    "recall = recall_score(y_test, y_pred_classes, average=None)  # Recall for each class\n",
    "f1 = f1_score(y_test, y_pred_classes, average='weighted')\n",
    "\n",
    "# One-hot encode y_test for AUC calculation\n",
    "num_classes = len(set(y_test))  # Adjust according to your dataset\n",
    "y_test_binarized = label_binarize(y_test, classes=range(num_classes))\n",
    "\n",
    "# Compute AUC for each class\n",
    "auc_per_class = roc_auc_score(y_test_binarized, y_pred_probs, average=None)\n",
    "\n",
    "# Prepare data to save\n",
    "model_name = \"CNN model\"\n",
    "data = {\n",
    "    \"Model Name\": model_name,\n",
    "    \"Loss\": loss,\n",
    "    \"Accuracy\": accuracy,\n",
    "    \"Precision\": precision,\n",
    "    \"F1 Score\": f1\n",
    "}\n",
    "\n",
    "# Add Recall for each class\n",
    "for i, recall_value in enumerate(recall):\n",
    "    data[f\"Recall_Class_{i}\"] = recall_value\n",
    "\n",
    "# Add AUC values for each class\n",
    "for i, auc_value in enumerate(auc_per_class):\n",
    "    data[f\"AUC_Class_{i}\"] = auc_value\n",
    "\n",
    "# Save to CSV\n",
    "csv_file = \"model_metrics.csv\"\n",
    "file_exists = False\n",
    "\n",
    "try:\n",
    "    with open(csv_file, mode='r') as f:\n",
    "        file_exists = True\n",
    "except FileNotFoundError:\n",
    "    pass\n",
    "\n",
    "# Append or write new file\n",
    "with open(csv_file, mode='a', newline='') as f:\n",
    "    writer = csv.DictWriter(f, fieldnames=data.keys())\n",
    "    \n",
    "    # Write header only if the file is new\n",
    "    if not file_exists:\n",
    "        writer.writeheader()\n",
    "    \n",
    "    # Write data row\n",
    "    writer.writerow(data)\n",
    "\n",
    "print(f\"Metrics saved to {csv_file}\")\n"
   ]
  },
  {
   "cell_type": "markdown",
   "id": "ae1467eb-b2c1-4166-8303-a9d4dc1e6d76",
   "metadata": {},
   "source": [
    "### ROC Curve for Multi-Class Classification\n",
    "\n",
    "This code generates ROC curves and computes the AUC for each class in a multi-class classification model.\n",
    "\n",
    "- **One-Hot Encoding**: Converts `y_test` into a binary matrix for ROC calculations.\n",
    "- **AUC Calculation**: Computes AUC for each class using `roc_auc_score`, comparing one-hot encoded true labels (`y_test_binarized`) and predicted probabilities (`y_pred_probs`).\n",
    "- **Plotting ROC Curves**: Iterates through each class to plot its ROC curve with FPR and TPR, and displays the AUC value in the legend.\n",
    "- **Diagonal Line**: Adds a line representing random guessing (AUC = 0.5).\n",
    "- **Plot Settings**: Includes titles, axis labels, and a legend for clarity.\n",
    "\n",
    "### Output:\n",
    "- A plot showing the ROC curve for each class, with AUC values for performance comparison.\n"
   ]
  },
  {
   "cell_type": "code",
   "execution_count": 33,
   "id": "ddf2b7c7-fbd6-49a6-b9a2-db0fbc9bb124",
   "metadata": {},
   "outputs": [
    {
     "data": {
      "image/png": "[encoded data removed]",
      "text/plain": [
       "<Figure size 1000x800 with 1 Axes>"
      ]
     },
     "metadata": {},
     "output_type": "display_data"
    }
   ],
   "source": [
    "\n",
    "# Assuming `y_test` contains true labels and `y_pred_probs` contains predicted probabilities\n",
    "\n",
    "# One-hot encode y_test for multi-class ROC\n",
    "num_classes = len(set(y_test))  # Number of classes\n",
    "y_test_binarized = label_binarize(y_test, classes=range(num_classes))\n",
    "\n",
    "# Compute AUC for each class\n",
    "auc_per_class = roc_auc_score(y_test_binarized, y_pred_probs, average=None)\n",
    "\n",
    "# Plot ROC curve for each class\n",
    "plt.figure(figsize=(10, 8))\n",
    "for i in range(num_classes):\n",
    "    fpr, tpr, _ = roc_curve(y_test_binarized[:, i], y_pred_probs[:, i])\n",
    "    plt.plot(fpr, tpr, label=f'Class {i} (AUC = {auc_per_class[i]:.2f})')\n",
    "\n",
    "# Add diagonal reference line\n",
    "plt.plot([0, 1], [0, 1], 'k--', label='Random Guess')\n",
    "\n",
    "# Plot settings\n",
    "plt.title('ROC Curve for Each Class')\n",
    "plt.xlabel('False Positive Rate (FPR)')\n",
    "plt.ylabel('True Positive Rate (TPR)')\n",
    "plt.legend(loc='lower right')\n",
    "plt.grid()\n",
    "plt.show()\n"
   ]
  }
 ],
 "metadata": {
  "kernelspec": {
   "display_name": "Python 3 (ipykernel)",
   "language": "python",
   "name": "python3"
  },
  "language_info": {
   "codemirror_mode": {
    "name": "ipython",
    "version": 3
   },
   "file_extension": ".py",
   "mimetype": "text/x-python",
   "name": "python",
   "nbconvert_exporter": "python",
   "pygments_lexer": "ipython3",
   "version": "3.11.7"
  }
 },
 "nbformat": 4,
 "nbformat_minor": 5
}
